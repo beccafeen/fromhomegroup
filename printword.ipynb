{
 "cells": [
  {
   "cell_type": "code",
   "execution_count": null,
   "metadata": {},
   "outputs": [],
   "source": [
    "def print_word():   \n",
    "    word = str(generate_random_word())\n",
    "    w = len(word)\n",
    "    play_again = True\n",
    "\n",
    "    guesses = []\n",
    "    tries = 0\n",
    "    while play_again == True:\n",
    "        guesses.append(input(\"guess a letter:\\n\"))\n",
    "        wordTest = word\n",
    "        for i in word:\n",
    "            if i not in guesses:\n",
    "                wordTest = wordTest.replace(i,'-',w)\n",
    "        print(wordTest)\n",
    "        tries += 1\n",
    "        if wordTest == word:\n",
    "            play_again = False\n",
    "                \n",
    "    print('\\nIt took you',tries,'tries')\n",
    "    print('you win')\n",
    "           \n",
    "print_word()"
   ]
  }
 ],
 "metadata": {
  "kernelspec": {
   "display_name": "Python 3",
   "language": "python",
   "name": "python3"
  },
  "language_info": {
   "codemirror_mode": {
    "name": "ipython",
    "version": 3
   },
   "file_extension": ".py",
   "mimetype": "text/x-python",
   "name": "python",
   "nbconvert_exporter": "python",
   "pygments_lexer": "ipython3",
   "version": "3.7.4"
  }
 },
 "nbformat": 4,
 "nbformat_minor": 4
}
