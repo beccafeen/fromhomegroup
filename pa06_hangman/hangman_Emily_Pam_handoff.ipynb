{
 "cells": [
  {
   "cell_type": "markdown",
   "metadata": {},
   "source": [
    "# Hangman notes\n",
    "Your hangman homework has a number of different ways it can be completed. If you are having trouble completing it, you can use this notebook to guide you to a solution.\n",
    "\n",
    "## Describe the Algorithm\n",
    "Usually when we start writing a program we decide how we want the program to work. This is called the algorithm underlying the program.\n",
    "\n",
    "For hangman it might be something like this.\n",
    "\n",
    "1. Ask if they want to play a game, if not then return\n",
    "2. Generate a random word (w)\n",
    "   Also initialize the counter variable which keeps track of their remaining guesses\n",
    "   and initialize a variable to keep track of the letters they've guessed already.\n",
    "3. Ask the user for a letter and add it to the list of guessed letters\n",
    "4. If the letter has already been guessed or is not in the word, add one to the counter\n",
    "   and print a message saying they didn't guess a new letter\n",
    "5. Otherwise, congratulate them and print the letters in the word, but only showing the\n",
    "   letters they have guessed.\n",
    "6. If they have guessed all the letters or they have used up all of their guesses end the game\n",
    "7. Otherwise continue the game\n",
    "\n",
    "# Pseudocode\n",
    "The next step is to write the code as a combination of Python and English where the Python\n",
    "captures the \"top-level\" parts of the algorithm.\n",
    "\n",
    "Making this more Python-like we can rewrite it as:\n",
    "```python\n",
    "def play_hangman():\n",
    "    want_to_play = True\n",
    "\n",
    "\n",
    "    while (want_to_play):\n",
    "        guessed_letters = []\n",
    "        guesses_left = 6\n",
    "        word = \"generate a random word\"\n",
    "        letter = \"ask the user for a letter\"\n",
    "        done = False\n",
    "        while not done:\n",
    "            if letter in guessed_letters:\n",
    "                \"subtract one from guesses_left\"\n",
    "                \"and tell them they already guessed that letter\"\n",
    "            elif letter not in word:\n",
    "                \"add letter to guessed letters\"\n",
    "                \"tell user the letter is not in the word\"\n",
    "                \"subtract one from the guesses_left\"\n",
    "            else:\n",
    "                \"add letter to guessed letters\"\n",
    "                \"tell user the letter is in the word\"\n",
    "            if \"all the letters in the word have been guessed\":\n",
    "                \"set done to be true and tell the user they won!\"\n",
    "            elif \"the number of guesses left is zero\":\n",
    "                \"set done to be true and tell the user they lost!\"\n",
    "            else:\n",
    "                \"print the word with a dash for each letter not in guessed_letters\"\n",
    "                letter = \"ask the user for another letter\"\n",
    "        want_to_play = \"ask the user if they want to play another game...\"\n",
    "    \n",
    "```   \n",
    "Some of the pseudo code can be converted directly into python code\n",
    "Other pseudo code should be turned into functions, e.g.\n"
   ]
  },
  {
   "cell_type": "markdown",
   "metadata": {},
   "source": [
    "## Testing\n",
    "Try to trace this program to see if the logic is correct\n",
    "Play a few games and see if we have forgotten anything..."
   ]
  },
  {
   "cell_type": "markdown",
   "metadata": {},
   "source": [
    "## Topdown development\n",
    "Now that we have a highlevel view of the program and have tested it, lets start writing the lowerlevel code.\n",
    "\n",
    "\"generate a random word\" could be a function call \n",
    "```python\n",
    "  word = generate_random_word()\n",
    "```\n",
    "and then you'll need to define the generate_random_word function. The easiest approach is to\n",
    "import the random module and use the random.choice(list) function which returns a random element\n",
    "from the list. Write the code for the generate_random_word function where you just write a list of words, e.g. \n",
    "``` python\n",
    "words = \"dog cat mouse deer snake\".split()\n",
    "```\n",
    "Try writing the generate_random_word function and testing it...\n",
    "Even better is to download a list of English words, read them (as we did for Romeo and Juliet),\n",
    "and then use the random.choice function of the random module to pick a random word from that list."
   ]
  },
  {
   "cell_type": "raw",
   "metadata": {},
   "source": []
  },
  {
   "cell_type": "code",
   "execution_count": 11,
   "metadata": {},
   "outputs": [
    {
     "data": {
      "text/plain": [
       "'size'"
      ]
     },
     "execution_count": 11,
     "metadata": {},
     "output_type": "execute_result"
    }
   ],
   "source": [
    "import random\n",
    "def generate_random_word():\n",
    "    filename = \"words.txt\"\n",
    "    file = open(filename,\"r\")  # the \"r\" specifies we will be reading from it, not writing to it\n",
    "    text = file.read()\n",
    "    words = text.split()\n",
    "    return random.choice(words)\n",
    "generate_random_word()"
   ]
  },
  {
   "cell_type": "markdown",
   "metadata": {},
   "source": [
    "\"print the word with a dash for each letter not in guessed_letters\"\n",
    "\n",
    "should also be a function, \n",
    "```python\n",
    "print_word(word,guessed_letter)\n",
    "```\n",
    "which prints each letter of the word but prints a dash if the letter has not been guessed.\n",
    "Try writing that function here and testing it."
   ]
  },
  {
   "cell_type": "code",
   "execution_count": 12,
   "metadata": {},
   "outputs": [
    {
     "name": "stdout",
     "output_type": "stream",
     "text": [
      "hook\n",
      "['h', 'o', 'o', 'k']\n",
      "----\n"
     ]
    }
   ],
   "source": [
    "word = generate_random_word()\n",
    "letters = [i for i in word]\n",
    "print(word)\n",
    "print(letters)\n",
    "\n",
    "def print_word(word,guessed_letter):  \n",
    "    for i in word:\n",
    "        if i != guessed_letter:\n",
    "            word = word.replace(i,\"-\")\n",
    "    print(word)\n",
    "print_word(word,\"e\")      "
   ]
  },
  {
   "cell_type": "markdown",
   "metadata": {},
   "source": [
    "Putting it all together\n",
    "Now try to write the entire play_hangman game with all these pieces.\n"
   ]
  },
  {
   "cell_type": "code",
   "execution_count": null,
   "metadata": {},
   "outputs": [],
   "source": [
    "\n",
    "def play_hangman():\n",
    "    want_to_play = True\n",
    "\n",
    "    if want_to_play == True:\n",
    "        \n",
    "        play = input('Do you want to play hangman?')\n",
    "        if play == \"No\" or play == \"no\":\n",
    "            want_to_play = False\n",
    "            print(\"Goodbye\")\n",
    "            return\n",
    "        \n",
    "        elif play == \"Yes\" or play == \"yes\":\n",
    "            want_to_play = True\n",
    "        \n",
    "        else:\n",
    "            print(\"not valid\")\n",
    "\n",
    "        guessed_letters = []\n",
    "        guesses_left = 6\n",
    "        count = 0 #this is here to follow his instructions to initialize a counter variable, but I am not sure what to do with it. As of now, guesses_left is serving this function\n",
    "        word = generate_random_word() #\"generate a random word\"\n",
    "        #there should be another variable here that keeps track of and makes a list of wrong guesses. Did not get around to it\n",
    "        print(word) #use this to guide your testing but obviously take it out before we turn it in\n",
    "        letter = input('Please choose a letter') #\"ask the user for a letter\"\n",
    "        done = False\n",
    "        guess_string=''\n",
    "      \n",
    "    while True:\n",
    "\n",
    "                if letter in guessed_letters:\n",
    "                    guesses_left -= 1 #subtract one from guesses_left\n",
    "                    print('Sorry, you have already guessed that letter') #and tell them they already guessed that letter\n",
    "                elif letter not in word:\n",
    "                    guessed_letters.append(letter) #add letter to guessed letters\n",
    "                    print('Sorry, that letter is not in this word')#tell user the letter is not in the word\n",
    "                    guesses_left -= 1 #subtract one from the guesses_left\n",
    "                if:\n",
    "                    #print_word(word,letter)\n",
    "                    guessed_letters.append(letter)==word #add letter to guessed letters\n",
    "                    print('Good job! That letter is in the word') #tell user the letter is in the word\n",
    "                if guessed_letters == word:#all the letters in the word have been guessed\n",
    "                    done == True\n",
    "                    print('Good job! You won') #set done to be true and tell the user they won!\n",
    "                elif guesses_left <= 0:\n",
    "                    count +=1#the number of guesses left is zero\n",
    "                    print('Sorry, you lost. The word was ' + word)#set done to be true and tell the user they lost!\"\n",
    "                    return\n",
    "                    #there is a bug here since this statement needs to lead to the play again module\n",
    "                else:\n",
    "                    print_word(word,letter)#print the word with a dash for each letter not in guessed_letters\n",
    "                    #there is a bug here as it does not print the full word with the correct letters but instead prints a spearate line for each correct letter. Hard to explain but you can test it and see what I mean\n",
    "                    letter = input('Please choose another letter') #ask the user for another letter\"\n",
    "         \n",
    "    play_again = input('Do you want to play another game?')\n",
    "    if play_again == \"No\" or play_again == \"no\":\n",
    "        want_to_play = False\n",
    "        print(\"Goodbye\")\n",
    "        return\n",
    "        \n",
    "    elif play_again == \"Yes\" or play_again == \"yes\":\n",
    "        want_to_play = True\n",
    "        \n",
    "    else:\n",
    "        print(\"not valid\")#ask the user if they want to play another game...\"\n",
    "play_hangman()"
   ]
  },
  {
   "cell_type": "code",
   "execution_count": null,
   "metadata": {},
   "outputs": [
    {
     "name": "stdout",
     "output_type": "stream",
     "text": [
      "stem\n",
      "['s', 't', 'e', 'm']\n",
      "--e-\n",
      "Welcome to Hangman! A word will be chosen at random and\n",
      "you must try to guess the word correctly letter by letter\n",
      "before you run out of attempts. Good luck!\n",
      "\n",
      "-----\n",
      "|   |\n",
      "|\n",
      "|\n",
      "|\n",
      "|\n",
      "|\n",
      "|\n",
      "|\n",
      "--------\n",
      "\n",
      "\n",
      "You have 10 attempts remaining\n",
      "----\n"
     ]
    },
    {
     "name": "stdin",
     "output_type": "stream",
     "text": [
      "Guess a letter, A-Z: a\n"
     ]
    },
    {
     "name": "stdout",
     "output_type": "stream",
     "text": [
      "\n",
      "-----\n",
      "|   |\n",
      "|   0\n",
      "|\n",
      "|\n",
      "|\n",
      "|\n",
      "|\n",
      "|\n",
      "--------\n",
      "\n",
      "\n",
      "You have 9 attempts remaining\n",
      "----\n"
     ]
    },
    {
     "name": "stdin",
     "output_type": "stream",
     "text": [
      "Guess a letter, A-Z: e\n"
     ]
    },
    {
     "name": "stdout",
     "output_type": "stream",
     "text": [
      "\n",
      "You have 9 attempts remaining\n",
      "e---\n"
     ]
    },
    {
     "name": "stdin",
     "output_type": "stream",
     "text": [
      "Guess a letter, A-Z: l\n"
     ]
    },
    {
     "name": "stdout",
     "output_type": "stream",
     "text": [
      "\n",
      "-----\n",
      "|   |\n",
      "|   0\n",
      "|  -+-\n",
      "|\n",
      "|\n",
      "|\n",
      "|\n",
      "|\n",
      "--------\n",
      "\n",
      "\n",
      "You have 8 attempts remaining\n",
      "e---\n"
     ]
    },
    {
     "name": "stdin",
     "output_type": "stream",
     "text": [
      "Guess a letter, A-Z: f\n"
     ]
    },
    {
     "name": "stdout",
     "output_type": "stream",
     "text": [
      "\n",
      "-----\n",
      "|   |\n",
      "|   0\n",
      "| /-+-\n",
      "|\n",
      "|\n",
      "|\n",
      "|\n",
      "|\n",
      "--------\n",
      "\n",
      "\n",
      "You have 7 attempts remaining\n",
      "e---\n"
     ]
    },
    {
     "name": "stdin",
     "output_type": "stream",
     "text": [
      "Guess a letter, A-Z: g\n"
     ]
    },
    {
     "name": "stdout",
     "output_type": "stream",
     "text": [
      "\n",
      "-----\n",
      "|   |\n",
      "|   0\n",
      "| /-+-\\ \n",
      "|\n",
      "|\n",
      "|\n",
      "|\n",
      "|\n",
      "--------\n",
      "\n",
      "\n",
      "You have 6 attempts remaining\n",
      "e---\n"
     ]
    },
    {
     "name": "stdin",
     "output_type": "stream",
     "text": [
      "Guess a letter, A-Z: n\n"
     ]
    },
    {
     "name": "stdout",
     "output_type": "stream",
     "text": [
      "\n",
      "-----\n",
      "|   |\n",
      "|   0\n",
      "| /-+-\\ \n",
      "|   | \n",
      "|\n",
      "|\n",
      "|\n",
      "|\n",
      "--------\n",
      "\n",
      "\n",
      "You have 5 attempts remaining\n",
      "e---\n"
     ]
    },
    {
     "name": "stdin",
     "output_type": "stream",
     "text": [
      "Guess a letter, A-Z: m\n"
     ]
    },
    {
     "name": "stdout",
     "output_type": "stream",
     "text": [
      "\n",
      "-----\n",
      "|   |\n",
      "|   0\n",
      "| /-+-\\ \n",
      "|   | \n",
      "|   | \n",
      "|\n",
      "|\n",
      "|\n",
      "--------\n",
      "\n",
      "\n",
      "You have 4 attempts remaining\n",
      "e---\n"
     ]
    },
    {
     "name": "stdin",
     "output_type": "stream",
     "text": [
      "Guess a letter, A-Z: s\n"
     ]
    },
    {
     "name": "stdout",
     "output_type": "stream",
     "text": [
      "\n",
      "-----\n",
      "|   |\n",
      "|   0\n",
      "| /-+-\\ \n",
      "|   | \n",
      "|   | \n",
      "|  |\n",
      "|\n",
      "|\n",
      "--------\n",
      "\n",
      "\n",
      "You have 3 attempts remaining\n",
      "e---\n"
     ]
    },
    {
     "name": "stdin",
     "output_type": "stream",
     "text": [
      "Guess a letter, A-Z: d\n"
     ]
    },
    {
     "name": "stdout",
     "output_type": "stream",
     "text": [
      "\n",
      "-----\n",
      "|   |\n",
      "|   0\n",
      "| /-+-\\ \n",
      "|   | \n",
      "|   | \n",
      "|  | \n",
      "|  | \n",
      "|\n",
      "--------\n",
      "\n",
      "\n",
      "You have 2 attempts remaining\n",
      "e---\n"
     ]
    },
    {
     "name": "stdin",
     "output_type": "stream",
     "text": [
      "Guess a letter, A-Z: f\n"
     ]
    },
    {
     "name": "stdout",
     "output_type": "stream",
     "text": [
      "You have already guessed that letter. Please try again.\n",
      "\n",
      "You have 2 attempts remaining\n",
      "e---\n"
     ]
    },
    {
     "name": "stdin",
     "output_type": "stream",
     "text": [
      "Guess a letter, A-Z: g\n"
     ]
    },
    {
     "name": "stdout",
     "output_type": "stream",
     "text": [
      "You have already guessed that letter. Please try again.\n",
      "\n",
      "You have 2 attempts remaining\n",
      "e---\n"
     ]
    },
    {
     "name": "stdin",
     "output_type": "stream",
     "text": [
      "Guess a letter, A-Z: l\n"
     ]
    },
    {
     "name": "stdout",
     "output_type": "stream",
     "text": [
      "You have already guessed that letter. Please try again.\n",
      "\n",
      "You have 2 attempts remaining\n",
      "e---\n"
     ]
    },
    {
     "name": "stdin",
     "output_type": "stream",
     "text": [
      "Guess a letter, A-Z: g\n"
     ]
    },
    {
     "name": "stdout",
     "output_type": "stream",
     "text": [
      "You have already guessed that letter. Please try again.\n",
      "\n",
      "You have 2 attempts remaining\n",
      "e---\n"
     ]
    },
    {
     "name": "stdin",
     "output_type": "stream",
     "text": [
      "Guess a letter, A-Z: r\n"
     ]
    },
    {
     "name": "stdout",
     "output_type": "stream",
     "text": [
      "\n",
      "-----\n",
      "|   |\n",
      "|   0\n",
      "| /-+-\\ \n",
      "|   | \n",
      "|   | \n",
      "|  | | \n",
      "|  | \n",
      "|\n",
      "--------\n",
      "\n",
      "\n",
      "You have 1 attempts remaining\n",
      "e---\n"
     ]
    },
    {
     "name": "stdin",
     "output_type": "stream",
     "text": [
      "Guess a letter, A-Z: e\n"
     ]
    },
    {
     "name": "stdout",
     "output_type": "stream",
     "text": [
      "You have already guessed that letter. Please try again.\n",
      "\n",
      "You have 1 attempts remaining\n",
      "e---\n"
     ]
    },
    {
     "name": "stdin",
     "output_type": "stream",
     "text": [
      "Guess a letter, A-Z: h\n"
     ]
    },
    {
     "name": "stdout",
     "output_type": "stream",
     "text": [
      "\n",
      "-----\n",
      "|   |\n",
      "|   0\n",
      "| /-+-\\ \n",
      "|   | \n",
      "|   | \n",
      "|  | | \n",
      "|  | | \n",
      "|\n",
      "--------\n",
      "\n",
      "\\Better luck next time! The word was stem\n",
      "\n",
      "Would you like to play again?\n"
     ]
    }
   ],
   "source": [
    "# Emily + Pam's Code\n",
    "import random\n",
    "\n",
    "def generate_random_word():\n",
    "    filename = \"words.txt\"\n",
    "    file = open(filename,\"r\")  # the \"r\" specifies we will be reading from it, not writing to it\n",
    "    text = file.read()\n",
    "    words = text.split()\n",
    "    return random.choice(words)\n",
    "\n",
    "word = generate_random_word()\n",
    "letters = [i for i in word]\n",
    "print(word)\n",
    "print(letters)\n",
    "\n",
    "def print_word(word,guessed_letter):  \n",
    "    for i in word:\n",
    "        if i != guessed_letter:\n",
    "            word = word.replace(i,\"-\")\n",
    "    print(word)\n",
    "print_word(word,\"e\")   \n",
    "\n",
    "def LetsPlayHangman():\n",
    "    welcome = ['Welcome to Hangman! A word will be chosen at random and',\n",
    "               'you must try to guess the word correctly letter by letter',\n",
    "               'before you run out of attempts. Good luck!'\n",
    "               ]\n",
    "    for line in welcome:\n",
    "        print(line, sep='\\n')\n",
    "\n",
    "    # setting up the play_again loop\n",
    "\n",
    "    play_again = True\n",
    "\n",
    "    while play_again:\n",
    "        # set up the game loop\n",
    "\n",
    "        chosen_word = random.choice(word).lower()\n",
    "        player_guess = None # will hold the players guess\n",
    "        guessed_letters = [] # a list of letters guessed so far\n",
    "        word_guessed = []\n",
    "        for letter in word:\n",
    "            word_guessed.append(\"-\") # create an unguessed, blank version of the word\n",
    "        joined_word = None # joins the words in the list word_guessed\n",
    "\n",
    "        HANGMAN = (\n",
    "\"\"\"\n",
    "-----\n",
    "|   |\n",
    "|\n",
    "|\n",
    "|\n",
    "|\n",
    "|\n",
    "|\n",
    "|\n",
    "--------\n",
    "\"\"\",\n",
    "\"\"\"\n",
    "-----\n",
    "|   |\n",
    "|   0\n",
    "|\n",
    "|\n",
    "|\n",
    "|\n",
    "|\n",
    "|\n",
    "--------\n",
    "\"\"\",\n",
    "\"\"\"\n",
    "-----\n",
    "|   |\n",
    "|   0\n",
    "|  -+-\n",
    "|\n",
    "|\n",
    "|\n",
    "|\n",
    "|\n",
    "--------\n",
    "\"\"\",\n",
    "\"\"\"\n",
    "-----\n",
    "|   |\n",
    "|   0\n",
    "| /-+-\n",
    "|\n",
    "|\n",
    "|\n",
    "|\n",
    "|\n",
    "--------\n",
    "\"\"\",\n",
    "\"\"\"\n",
    "-----\n",
    "|   |\n",
    "|   0\n",
    "| /-+-\\ \n",
    "|\n",
    "|\n",
    "|\n",
    "|\n",
    "|\n",
    "--------\n",
    "\"\"\",\n",
    "\"\"\"\n",
    "-----\n",
    "|   |\n",
    "|   0\n",
    "| /-+-\\ \n",
    "|   | \n",
    "|\n",
    "|\n",
    "|\n",
    "|\n",
    "--------\n",
    "\"\"\",\n",
    "\"\"\"\n",
    "-----\n",
    "|   |\n",
    "|   0\n",
    "| /-+-\\ \n",
    "|   | \n",
    "|   | \n",
    "|\n",
    "|\n",
    "|\n",
    "--------\n",
    "\"\"\",\n",
    "\"\"\"\n",
    "-----\n",
    "|   |\n",
    "|   0\n",
    "| /-+-\\ \n",
    "|   | \n",
    "|   | \n",
    "|  |\n",
    "|\n",
    "|\n",
    "--------\n",
    "\"\"\",\n",
    "\"\"\"\n",
    "-----\n",
    "|   |\n",
    "|   0\n",
    "| /-+-\\ \n",
    "|   | \n",
    "|   | \n",
    "|  | \n",
    "|  | \n",
    "|\n",
    "--------\n",
    "\"\"\",\n",
    "\"\"\"\n",
    "-----\n",
    "|   |\n",
    "|   0\n",
    "| /-+-\\ \n",
    "|   | \n",
    "|   | \n",
    "|  | | \n",
    "|  | \n",
    "|\n",
    "--------\n",
    "\"\"\",\n",
    "\"\"\"\n",
    "-----\n",
    "|   |\n",
    "|   0\n",
    "| /-+-\\ \n",
    "|   | \n",
    "|   | \n",
    "|  | | \n",
    "|  | | \n",
    "|\n",
    "--------\n",
    "\"\"\")\n",
    "\n",
    "        print(HANGMAN[0])\n",
    "        attempts = len(HANGMAN) - 1\n",
    "\n",
    "\n",
    "        while (attempts != 0 and \"-\" in word_guessed):\n",
    "            print((\"\\nYou have {} attempts remaining\").format(attempts))\n",
    "            joined_word = \"\".join(word_guessed)\n",
    "            print(joined_word)\n",
    "\n",
    "            try:\n",
    "                player_guess = input(\"Guess a letter, A-Z:\")\n",
    "                player_guess = player_guess.lower()\n",
    "            except: # check valid input, letter and vowel. No numbers\n",
    "                print(\"That is not valid input. Please try again.\")\n",
    "                continue                \n",
    "            else: \n",
    "                if not player_guess.isalpha(): # check the input is a letter. Also checks an input has been made.\n",
    "                    print(\"That is not a letter. Please try again.\")\n",
    "                    continue\n",
    "                elif len(player_guess) > 1: # check the input is only one letter\n",
    "                    print(\"That is more than one letter. Please try again.\")\n",
    "                    continue\n",
    "                elif player_guess in guessed_letters: # check it letter hasn't been guessed already\n",
    "                    print(\"You have already guessed that letter. Please try again.\")\n",
    "                    continue\n",
    "                else:\n",
    "                    pass\n",
    "\n",
    "            guessed_letters.append(player_guess)\n",
    "\n",
    "            for letter in range(len(chosen_word)):\n",
    "                if player_guess == chosen_word[letter]:\n",
    "                    word_guessed[letter] = player_guess # replace all letters in the chosen word that match the players guess\n",
    "\n",
    "            if player_guess not in chosen_word:\n",
    "                attempts -= 1\n",
    "                print(HANGMAN[(len(HANGMAN) - 1) - attempts])\n",
    "\n",
    "        if \"-\" not in word_guessed: # no blanks remaining\n",
    "            print(\"Congratulations, you have won! The word was \" + word )\n",
    "        else: # loop must have ended because attempts reached 0\n",
    "            print(\"Better luck next time! The word was \" + word )\n",
    "        print(\"Would you like to play again?\")\n",
    "\n",
    "        response = input(\"> \").lower()\n",
    "        if response not in (\"yes\", \"y\"):\n",
    "            play_again = False\n",
    "\n",
    "if __name__ == \"__main__\":\n",
    "    LetsPlayHangman()"
   ]
  },
  {
   "cell_type": "code",
   "execution_count": null,
   "metadata": {},
   "outputs": [],
   "source": []
  }
 ],
 "metadata": {
  "kernelspec": {
   "display_name": "Python 3",
   "language": "python",
   "name": "python3"
  },
  "language_info": {
   "codemirror_mode": {
    "name": "ipython",
    "version": 3
   },
   "file_extension": ".py",
   "mimetype": "text/x-python",
   "name": "python",
   "nbconvert_exporter": "python",
   "pygments_lexer": "ipython3",
   "version": "3.7.4"
  }
 },
 "nbformat": 4,
 "nbformat_minor": 4
}
